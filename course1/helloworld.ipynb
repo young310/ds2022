{
 "cells": [
  {
   "cell_type": "markdown",
   "metadata": {},
   "source": [
    "### Hello World\n",
    "學寫程式的第一堂課(傳統儀式)"
   ]
  },
  {
   "cell_type": "code",
   "execution_count": 1,
   "metadata": {
    "execution": {
     "iopub.execute_input": "2022-07-04T09:42:21.968523Z",
     "iopub.status.busy": "2022-07-04T09:42:21.967879Z",
     "iopub.status.idle": "2022-07-04T09:42:21.995675Z",
     "shell.execute_reply": "2022-07-04T09:42:21.994784Z",
     "shell.execute_reply.started": "2022-07-04T09:42:21.968417Z"
    }
   },
   "outputs": [
    {
     "name": "stdout",
     "output_type": "stream",
     "text": [
      "Hello World\n"
     ]
    }
   ],
   "source": [
    "#Author: Elvis T. Yang <-- leave your name here\n",
    "#Version: 1.0.2022/06/30 <-- leave your version and date here\n",
    "print(\"Hello World\")"
   ]
  },
  {
   "cell_type": "markdown",
   "metadata": {},
   "source": [
    "### 作業一（有啥花招的使出來吧）\n",
    "印出你的名字, 課堂目標, 公司email及是否有意願在課堂上分享你寫的程式"
   ]
  },
  {
   "cell_type": "code",
   "execution_count": 3,
   "metadata": {
    "execution": {
     "iopub.execute_input": "2022-07-04T09:42:38.450588Z",
     "iopub.status.busy": "2022-07-04T09:42:38.449848Z",
     "iopub.status.idle": "2022-07-04T09:42:38.456315Z",
     "shell.execute_reply": "2022-07-04T09:42:38.455379Z",
     "shell.execute_reply.started": "2022-07-04T09:42:38.450548Z"
    }
   },
   "outputs": [
    {
     "name": "stdout",
     "output_type": "stream",
     "text": [
      "姓名：楊子逸\n",
      "課堂目標：我要自己寫星盤算命出來\n",
      "email:elvistyang@deloitte.com.tw\n",
      "願意分享:YES\n"
     ]
    }
   ],
   "source": [
    "#Author: Elvis T. Yang <-- leave your name here\n",
    "#Version: 1.0.2022/06/30 <-- leave your version and date here\n",
    "#print your name, your goal in this class, and your email for more information.\n",
    "#print(\"姓名：{}\\n課堂目標：{}\\nemail:{}\\n願意分享:{}\".format('楊子逸', '我要自己寫星盤算命出來', 'elvistyang@deloitte.com.tw'))\n",
    "print()"
   ]
  },
  {
   "cell_type": "markdown",
   "metadata": {},
   "source": [
    "### Advanced homework1\n",
    "已知print()可以用來印出內容，請印出數字1到10。\n",
    "寫法不唯一，請盡力窮舉(越多越好)"
   ]
  },
  {
   "cell_type": "code",
   "execution_count": 4,
   "metadata": {
    "execution": {
     "iopub.execute_input": "2022-06-30T07:25:32.432214Z",
     "iopub.status.busy": "2022-06-30T07:25:32.431089Z",
     "iopub.status.idle": "2022-06-30T07:25:32.456987Z",
     "shell.execute_reply": "2022-06-30T07:25:32.455768Z",
     "shell.execute_reply.started": "2022-06-30T07:25:32.432099Z"
    }
   },
   "outputs": [
    {
     "name": "stdout",
     "output_type": "stream",
     "text": [
      "0,1,2,3,4,5,6,7,8,9,10\n"
     ]
    }
   ],
   "source": [
    "print(1)\n",
    "print(2)\n",
    "#..."
   ]
  },
  {
   "cell_type": "markdown",
   "metadata": {},
   "source": [
    "### Advanced homework2\n",
    "這題考你費氏函數（其實考的是google能力），不懂的沒關係，懂的請你寫出你知道的寫法（已知解法不唯一）"
   ]
  }
 ],
 "metadata": {
  "kernelspec": {
   "display_name": "Python 3 (ipykernel)",
   "language": "python",
   "name": "python3"
  },
  "language_info": {
   "codemirror_mode": {
    "name": "ipython",
    "version": 3
   },
   "file_extension": ".py",
   "mimetype": "text/x-python",
   "name": "python",
   "nbconvert_exporter": "python",
   "pygments_lexer": "ipython3",
   "version": "3.9.12"
  }
 },
 "nbformat": 4,
 "nbformat_minor": 4
}
