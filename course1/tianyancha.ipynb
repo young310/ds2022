{
 "cells": [
  {
   "cell_type": "code",
   "execution_count": 6,
   "id": "50ec0565",
   "metadata": {},
   "outputs": [
    {
     "name": "stdout",
     "output_type": "stream",
     "text": [
      "\n"
     ]
    },
    {
     "name": "stderr",
     "output_type": "stream",
     "text": [
      "[WDM] - ====== WebDriver manager ======\n",
      "[WDM] - Current edge version is 102.0.1245\n",
      "[WDM] - Get LATEST edgedriver version for 102.0.1245 Edge\n",
      "[WDM] - Driver [C:\\Users\\user\\.wdm\\drivers\\edgedriver\\win64\\102.0.1245.50\\msedgedriver.exe] found in cache\n"
     ]
    }
   ],
   "source": [
    "from selenium import webdriver\n",
    "#from selenium.webdriver.chrome.options import Options\n",
    "#from selenium.webdriver.chrome.service import Service\n",
    "#from webdriver_manager.chrome import ChromeDriverManager\n",
    "from selenium import webdriver\n",
    "from selenium.webdriver.edge.service import Service\n",
    "from webdriver_manager.microsoft import EdgeChromiumDriverManager\n",
    "\n",
    "driver = webdriver.Edge(service=Service(EdgeChromiumDriverManager().install()))\n",
    "\n",
    "#for chrome\n",
    "#options = Options()\n",
    "#options.add_argument(\"start-maximized --disable-notifications\")\n",
    "#options.add_argument(\"--disable-notifications\")\n",
    "#driver = webdriver.Chrome(service=Service(ChromeDriverManager().install()), options=options)\n",
    "\n",
    "warning = ['天眼风险']\n",
    "\n",
    "#driver.get(\"https://www.tianyancha.com/search?key={}\".format('92440300MA5DKTAA14'))\n",
    "#searh tool text and send key\n",
    "#search_edit = driver.find_element_by_class('_cc76e _44c65 _03321')\n",
    "#search_edit.send_keys('test');\n",
    "#search_edit.submit()\n"
   ]
  },
  {
   "cell_type": "code",
   "execution_count": 7,
   "id": "b298a34b",
   "metadata": {},
   "outputs": [
    {
     "name": "stdout",
     "output_type": "stream",
     "text": [
      "done\n"
     ]
    }
   ],
   "source": [
    "from openpyxl import load_workbook \n",
    "import re\n",
    "wb = load_workbook('發票彙總.xlsx') \n",
    "sheet = wb['工作表1'] \n",
    "for row in sheet:\n",
    "    if(bool(re.match('^[a-zA-Z0-9]*$', row[18].value))==True):\n",
    "        driver.get(\"https://www.tianyancha.com/search?key={}\".format(row[18].value))\n",
    "        for risk in warning:\n",
    "            if risk in driver.page_source:\n",
    "                print('risk detected {} in {}'.format(risk, row[18].value))\n",
    "                row[94].value = risk\n",
    "    else:\n",
    "        continue\n",
    "print('done')\n",
    "wb.save('updated發票彙總.xlsx')\n",
    "driver.close()"
   ]
  },
  {
   "cell_type": "code",
   "execution_count": 8,
   "id": "2f8645b4",
   "metadata": {},
   "outputs": [
    {
     "name": "stdout",
     "output_type": "stream",
     "text": [
      "風險\n",
      "None\n",
      "None\n",
      "None\n",
      "None\n"
     ]
    }
   ],
   "source": [
    "from openpyxl import load_workbook \n",
    "import re\n",
    "wb = load_workbook('發票彙總.xlsx') \n",
    "sheet = wb['工作表1'] \n",
    "for row in sheet:\n",
    "    print(row[94].value)"
   ]
  },
  {
   "cell_type": "code",
   "execution_count": null,
   "id": "067fcad0",
   "metadata": {},
   "outputs": [],
   "source": []
  }
 ],
 "metadata": {
  "kernelspec": {
   "display_name": "Python 3 (ipykernel)",
   "language": "python",
   "name": "python3"
  },
  "language_info": {
   "codemirror_mode": {
    "name": "ipython",
    "version": 3
   },
   "file_extension": ".py",
   "mimetype": "text/x-python",
   "name": "python",
   "nbconvert_exporter": "python",
   "pygments_lexer": "ipython3",
   "version": "3.9.12"
  }
 },
 "nbformat": 4,
 "nbformat_minor": 5
}
