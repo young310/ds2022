{
 "cells": [
  {
   "cell_type": "code",
   "execution_count": 2,
   "id": "8d9dc8df",
   "metadata": {},
   "outputs": [
    {
     "name": "stderr",
     "output_type": "stream",
     "text": [
      "C:\\Users\\elvistyang\\.conda\\envs\\ds2022\\lib\\site-packages\\urllib3\\connectionpool.py:1043: InsecureRequestWarning: Unverified HTTPS request is being made to host 'holidays-calendar.net'. Adding certificate verification is strongly advised. See: https://urllib3.readthedocs.io/en/1.26.x/advanced-usage.html#ssl-warnings\n",
      "  warnings.warn(\n"
     ]
    }
   ],
   "source": [
    "import requests\n",
    "import re\n",
    "from bs4 import BeautifulSoup\n",
    "from datetime import date, timedelta, datetime\n",
    "import pandas as pd\n",
    "\n",
    "def allweekends(year):\n",
    "   d = date(year, 1, 1)                    # January 1st\n",
    "   d += timedelta(days = 6 - d.weekday())  # First Sunday\n",
    "   while d.year == year:\n",
    "      yield (d - timedelta(days = 1 )).strftime(\"%Y/%m/%d\"), d.strftime(\"%Y/%m/%d\")\n",
    "      d += timedelta(days = 7)\n",
    "\n",
    "response = requests.get(\"https://holidays-calendar.net/calendar_zh_tw/china_zh_tw.html\", verify=False)\n",
    "response.encoding = 'utf8'\n",
    "soup = BeautifulSoup(response.text, \"lxml\")\n",
    "#print(soup.prettify())  #輸出排版後的HTML內容\n",
    "\n",
    "DAY_OF_WEEK = {\n",
    "    \"Monday\": \"一\", \"Tuesday\": \"二\", \"Wednesday\": \"三\", \"Thursday\": \"四\", \"Friday\": \"五\", \"Saturday\": \"六\", \"Sunday\": \"日\"\n",
    "}\n",
    "\n",
    "NUMBER_OF_MONTH = {\n",
    "    1:\"jan\", 2:\"feb\", 3:\"mar\", 4:\"apr\", 5:\"may\", 6:\"jun\", 7:\"jul\", 8:\"aug\", 9:\"sep\", 10:\"oct\", 11:\"nov\", 12:\"dec\"\n",
    "}\n",
    "\n",
    "year = soup.find(class_='site-title')\n",
    "year = re.findall(r'\\d+', year.text)[0]"
   ]
  },
  {
   "cell_type": "code",
   "execution_count": 3,
   "id": "3d009946",
   "metadata": {},
   "outputs": [],
   "source": [
    "list = [[\"日期\",\"星期\",\"假日/國定假日\"]]\n",
    "\n",
    "for month in range(1,12):\n",
    "    jan = soup.find_all('table', id=NUMBER_OF_MONTH[month])\n",
    "    for days in jan:\n",
    "        for day in days.find_all(class_='hol'):\n",
    "            list.append([\"{}/{}/{}\".format(year, month, day.text.strip()), \n",
    "                         DAY_OF_WEEK[datetime(int(year), int(month), int(day.text.strip())).strftime('%A')],\n",
    "                         '是'])\n",
    "\n",
    "for weekend in allweekends(int(year)):\n",
    "    list.append([weekend[0], '六', '是'])\n",
    "    list.append([weekend[1], '日', '是'])\n"
   ]
  },
  {
   "cell_type": "code",
   "execution_count": 4,
   "id": "c7df3ee4",
   "metadata": {},
   "outputs": [],
   "source": [
    "df = pd.DataFrame(list)\n",
    "df, df.columns = df[1:] , df.iloc[0]\n",
    "df = df.set_index('日期')\n",
    "\n",
    "writer = pd.ExcelWriter('CN國定假日.xlsx', engine='xlsxwriter')\n",
    "df.to_excel(writer, sheet_name='國定假日')\n",
    "writer.save()\n",
    "df.to_csv(\"CN國定假日.csv\",encoding='utf-8-sig')"
   ]
  }
 ],
 "metadata": {
  "kernelspec": {
   "display_name": "Python 3 (ipykernel)",
   "language": "python",
   "name": "python3"
  },
  "language_info": {
   "codemirror_mode": {
    "name": "ipython",
    "version": 3
   },
   "file_extension": ".py",
   "mimetype": "text/x-python",
   "name": "python",
   "nbconvert_exporter": "python",
   "pygments_lexer": "ipython3",
   "version": "3.8.13"
  }
 },
 "nbformat": 4,
 "nbformat_minor": 5
}
