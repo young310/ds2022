{
 "cells": [
  {
   "cell_type": "code",
   "execution_count": 47,
   "id": "efc06d5c",
   "metadata": {},
   "outputs": [
    {
     "name": "stdout",
     "output_type": "stream",
     "text": [
      "Requirement already satisfied: selenium in /opt/anaconda3/envs/wpg/lib/python3.9/site-packages (4.3.0)\n",
      "Requirement already satisfied: trio-websocket~=0.9 in /opt/anaconda3/envs/wpg/lib/python3.9/site-packages (from selenium) (0.9.2)\n",
      "Requirement already satisfied: trio~=0.17 in /opt/anaconda3/envs/wpg/lib/python3.9/site-packages (from selenium) (0.21.0)\n",
      "Requirement already satisfied: urllib3[secure,socks]~=1.26 in /opt/anaconda3/envs/wpg/lib/python3.9/site-packages (from selenium) (1.26.9)\n",
      "Requirement already satisfied: async-generator>=1.9 in /opt/anaconda3/envs/wpg/lib/python3.9/site-packages (from trio~=0.17->selenium) (1.10)\n",
      "Requirement already satisfied: idna in /opt/anaconda3/envs/wpg/lib/python3.9/site-packages (from trio~=0.17->selenium) (3.3)\n",
      "Requirement already satisfied: outcome in /opt/anaconda3/envs/wpg/lib/python3.9/site-packages (from trio~=0.17->selenium) (1.2.0)\n",
      "Requirement already satisfied: sortedcontainers in /opt/anaconda3/envs/wpg/lib/python3.9/site-packages (from trio~=0.17->selenium) (2.4.0)\n",
      "Requirement already satisfied: sniffio in /opt/anaconda3/envs/wpg/lib/python3.9/site-packages (from trio~=0.17->selenium) (1.2.0)\n",
      "Requirement already satisfied: attrs>=19.2.0 in /opt/anaconda3/envs/wpg/lib/python3.9/site-packages (from trio~=0.17->selenium) (21.4.0)\n",
      "Requirement already satisfied: wsproto>=0.14 in /opt/anaconda3/envs/wpg/lib/python3.9/site-packages (from trio-websocket~=0.9->selenium) (1.1.0)\n",
      "Requirement already satisfied: PySocks!=1.5.7,<2.0,>=1.5.6 in /opt/anaconda3/envs/wpg/lib/python3.9/site-packages (from urllib3[secure,socks]~=1.26->selenium) (1.7.1)\n",
      "Requirement already satisfied: certifi in /opt/anaconda3/envs/wpg/lib/python3.9/site-packages (from urllib3[secure,socks]~=1.26->selenium) (2022.6.15)\n",
      "Requirement already satisfied: cryptography>=1.3.4 in /opt/anaconda3/envs/wpg/lib/python3.9/site-packages (from urllib3[secure,socks]~=1.26->selenium) (37.0.1)\n",
      "Requirement already satisfied: pyOpenSSL>=0.14 in /opt/anaconda3/envs/wpg/lib/python3.9/site-packages (from urllib3[secure,socks]~=1.26->selenium) (22.0.0)\n",
      "Requirement already satisfied: cffi>=1.12 in /opt/anaconda3/envs/wpg/lib/python3.9/site-packages (from cryptography>=1.3.4->urllib3[secure,socks]~=1.26->selenium) (1.15.0)\n",
      "Requirement already satisfied: pycparser in /opt/anaconda3/envs/wpg/lib/python3.9/site-packages (from cffi>=1.12->cryptography>=1.3.4->urllib3[secure,socks]~=1.26->selenium) (2.21)\n",
      "Requirement already satisfied: h11<1,>=0.9.0 in /opt/anaconda3/envs/wpg/lib/python3.9/site-packages (from wsproto>=0.14->trio-websocket~=0.9->selenium) (0.13.0)\n",
      "Requirement already satisfied: webdriver_manager in /opt/anaconda3/envs/wpg/lib/python3.9/site-packages (3.8.0)\n",
      "Requirement already satisfied: python-dotenv in /opt/anaconda3/envs/wpg/lib/python3.9/site-packages (from webdriver_manager) (0.20.0)\n",
      "Requirement already satisfied: requests in /opt/anaconda3/envs/wpg/lib/python3.9/site-packages (from webdriver_manager) (2.28.0)\n",
      "Requirement already satisfied: pybrowsers in /opt/anaconda3/envs/wpg/lib/python3.9/site-packages (from webdriver_manager) (0.4.1)\n",
      "Requirement already satisfied: certifi>=2017.4.17 in /opt/anaconda3/envs/wpg/lib/python3.9/site-packages (from requests->webdriver_manager) (2022.6.15)\n",
      "Requirement already satisfied: urllib3<1.27,>=1.21.1 in /opt/anaconda3/envs/wpg/lib/python3.9/site-packages (from requests->webdriver_manager) (1.26.9)\n",
      "Requirement already satisfied: idna<4,>=2.5 in /opt/anaconda3/envs/wpg/lib/python3.9/site-packages (from requests->webdriver_manager) (3.3)\n",
      "Requirement already satisfied: charset-normalizer~=2.0.0 in /opt/anaconda3/envs/wpg/lib/python3.9/site-packages (from requests->webdriver_manager) (2.0.4)\n",
      "\n"
     ]
    },
    {
     "name": "stderr",
     "output_type": "stream",
     "text": [
      "[WDM] - ====== WebDriver manager ======\n"
     ]
    },
    {
     "name": "stdout",
     "output_type": "stream",
     "text": [
      "2022-07-06 23:58:33,312 INFO ====== WebDriver manager ======\n"
     ]
    },
    {
     "name": "stderr",
     "output_type": "stream",
     "text": [
      "[WDM] - Current google-chrome version is 103.0.5060\n"
     ]
    },
    {
     "name": "stdout",
     "output_type": "stream",
     "text": [
      "2022-07-06 23:58:33,347 INFO Current google-chrome version is 103.0.5060\n"
     ]
    },
    {
     "name": "stderr",
     "output_type": "stream",
     "text": [
      "[WDM] - Get LATEST chromedriver version for 103.0.5060 google-chrome\n"
     ]
    },
    {
     "name": "stdout",
     "output_type": "stream",
     "text": [
      "2022-07-06 23:58:33,348 INFO Get LATEST chromedriver version for 103.0.5060 google-chrome\n"
     ]
    },
    {
     "name": "stderr",
     "output_type": "stream",
     "text": [
      "[WDM] - Driver [/Users/elvis/.wdm/drivers/chromedriver/mac64_m1/103.0.5060.53/chromedriver] found in cache\n"
     ]
    },
    {
     "name": "stdout",
     "output_type": "stream",
     "text": [
      "2022-07-06 23:58:33,557 INFO Driver [/Users/elvis/.wdm/drivers/chromedriver/mac64_m1/103.0.5060.53/chromedriver] found in cache\n"
     ]
    }
   ],
   "source": [
    "!pip install selenium                 #install selenium \n",
    "!pip install webdriver_manager                 #install selenium \n",
    "from selenium import webdriver\n",
    "from selenium.webdriver.common.by import By\n",
    "from selenium.webdriver.support.ui import WebDriverWait\n",
    "from selenium.webdriver.support import expected_conditions as EC\n",
    "#for chrome\n",
    "from selenium.webdriver.chrome.options import Options\n",
    "from selenium.webdriver.chrome.service import Service\n",
    "from webdriver_manager.chrome import ChromeDriverManager\n",
    "options = Options()\n",
    "options.add_argument(\"start-maximized --disable-notifications\")\n",
    "options.add_argument(\"--disable-notifications\")\n",
    "driver = webdriver.Chrome(service=Service(ChromeDriverManager().install()), options=options)\n",
    "\n",
    "\n",
    "#from selenium import webdriver\n",
    "#from selenium.webdriver.edge.service import Service\n",
    "#from webdriver_manager.microsoft import EdgeChromiumDriverManager\n",
    "#driver = webdriver.Edge(service=Service(EdgeChromiumDriverManager().install()))\n",
    "\n",
    "\n",
    "warning = ['天眼风险']\n",
    "\n",
    "\n"
   ]
  },
  {
   "cell_type": "code",
   "execution_count": 56,
   "id": "5860ed9b",
   "metadata": {},
   "outputs": [
    {
     "name": "stdout",
     "output_type": "stream",
     "text": [
      "close button1 not found\n",
      "password button not found\n"
     ]
    }
   ],
   "source": [
    "#driver.get(\"https://www.qcc.com/web/search?key={}\".format('92440300MA5DKTAA14'))\n",
    "driver.implicitly_wait(10) # seconds\n",
    "driver.get(\"https://www.qcc.com/weblogin\")\n",
    "#driver.find_element(By.CLASS_NAME, \"thirdLogin\").click()\n",
    "#driver.find_element(By.CLASS_NAME, \"close\").click()\n",
    "#driver.find_element(By.CLASS_NAME, \"密码登录\").click()\n",
    "#driver.find_element(By.XPATH, \"//a[@value=其他方式登录]\").click()\n",
    "\n",
    "try:\n",
    "    element = WebDriverWait(driver, 5).until(\n",
    "        EC.element_to_be_clickable((By.XPATH, '//*[text() = \"其他方式登录\"]'))\n",
    "    )\n",
    "    element.click()\n",
    "except:\n",
    "    print('close button1 not found') \n",
    "try:\n",
    "    password_element = WebDriverWait(driver, 5).until(\n",
    "        EC.element_to_be_clickable((By.XPATH, '//span[@class=\"password\"]'))\n",
    "    )\n",
    "    password_element.click()\n",
    "except:\n",
    "    print('password button not found') \n",
    "try:\n",
    "    password_login_element = WebDriverWait(driver, 5).until(\n",
    "        EC.element_to_be_clickable((By.XPATH, '//a[text() = \"密码登录\"]'))\n",
    "    )\n",
    "    password_login_element.click()\n",
    "except:\n",
    "    print('password button not found') \n",
    "try:\n",
    "    phone_element = WebDriverWait(driver, 5).until(\n",
    "        EC.presence_of_all_elements_located((By.XPATH, '//div[@class=\"password-login_wrapper\"]/form/div[1]/div/div[1]/span'))\n",
    "    )\n",
    "    #phone_element.text = '中国台湾 +886'\n",
    "except:\n",
    "    print('phone button not found')     \n",
    "#searh tool text and send key\n",
    "#search_edit = driver.find_element_by_class('_cc76e _44c65 _03321')\n",
    "#search_edit.send_keys('test');\n",
    "#search_edit.submit()\n",
    "\n"
   ]
  },
  {
   "cell_type": "code",
   "execution_count": 74,
   "id": "f93ae5c8",
   "metadata": {},
   "outputs": [
    {
     "name": "stdout",
     "output_type": "stream",
     "text": [
      "Message: \n",
      "\n",
      "phone button not found\n"
     ]
    }
   ],
   "source": [
    "try:\n",
    "    phone_element = WebDriverWait(driver, 5).until(\n",
    "        EC.element_to_be_clickable((By.XPATH, '//div[@class=\"password-login_wrapper\"]/form/div[1]/div/div[1]/span'))\n",
    "    )\n",
    "    phone_element.click()\n",
    "    taiwan_phone = WebDriverWait(driver, 5).until(\n",
    "        EC.element_to_be_clickable((By.XPATH, '//div[@class=\"password-login_wrapper\"]/form/div[1]/div/div[2]/ul[2]/li[4]/div[1]'))\n",
    "    )\n",
    "    taiwan_phone.click()\n",
    "    phone_input = WebDriverWait(driver, 5).until(\n",
    "        EC.element_to_be_clickable((By.XPATH, '//input[@name=\"phone-number\"]'))\n",
    "    )\n",
    "    phone_input.text = '0972887000'\n",
    "except Exception as e:\n",
    "    print(e)\n"
   ]
  },
  {
   "cell_type": "code",
   "execution_count": 77,
   "id": "fd7828d8",
   "metadata": {},
   "outputs": [],
   "source": [
    "try:\n",
    "    phone_input = WebDriverWait(driver, 5).until(\n",
    "        EC.element_to_be_clickable((By.XPATH, '//div[@class=\"password-login_wrapper\"]/form/div[1]/input'))\n",
    "    )\n",
    "    phone_input.send_keys('0972887000')\n",
    "    #\n",
    "except Exception as e:\n",
    "    print(e)    "
   ]
  },
  {
   "cell_type": "code",
   "execution_count": 78,
   "id": "f8b2f926",
   "metadata": {},
   "outputs": [],
   "source": [
    "try:\n",
    "    password_input = WebDriverWait(driver, 5).until(\n",
    "        EC.element_to_be_clickable((By.XPATH, '//div[@class=\"password-login_wrapper\"]/form/div[2]/input'))\n",
    "    )\n",
    "    password_input.send_keys('l3831483')\n",
    "    #\n",
    "except Exception as e:\n",
    "    print(e)    "
   ]
  },
  {
   "cell_type": "code",
   "execution_count": 80,
   "id": "9c70d1f0",
   "metadata": {},
   "outputs": [],
   "source": [
    "try:\n",
    "    submit_input = WebDriverWait(driver, 5).until(\n",
    "        EC.element_to_be_clickable((By.XPATH, '//div[@class=\"password-login_wrapper\"]/form/div[4]/button'))\n",
    "    )\n",
    "    submit_input.click()\n",
    "    #\n",
    "except Exception as e:\n",
    "    print(e) "
   ]
  },
  {
   "cell_type": "code",
   "execution_count": null,
   "id": "572893e2",
   "metadata": {},
   "outputs": [],
   "source": [
    "#https://www.qollie.com/"
   ]
  }
 ],
 "metadata": {
  "kernelspec": {
   "display_name": "Python 3 (ipykernel)",
   "language": "python",
   "name": "python3"
  },
  "language_info": {
   "codemirror_mode": {
    "name": "ipython",
    "version": 3
   },
   "file_extension": ".py",
   "mimetype": "text/x-python",
   "name": "python",
   "nbconvert_exporter": "python",
   "pygments_lexer": "ipython3",
   "version": "3.9.12"
  }
 },
 "nbformat": 4,
 "nbformat_minor": 5
}
